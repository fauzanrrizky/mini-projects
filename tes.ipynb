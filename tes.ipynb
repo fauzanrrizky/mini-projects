{
 "cells": [
  {
   "cell_type": "code",
   "execution_count": 17,
   "metadata": {},
   "outputs": [
    {
     "name": "stdout",
     "output_type": "stream",
     "text": [
      "{'address1': 'Menara Astra Lt 58-63', 'address2': 'Jl. Jenderal Sudirman Kav 5-6', 'city': 'Jakarta', 'zip': '10220', 'country': 'Indonesia', 'phone': '62 21 5084 3888', 'fax': '62 21 6530 4957', 'website': 'https://www.astra.co.id', 'industry': 'Conglomerates', 'industryKey': 'conglomerates', 'industryDisp': 'Conglomerates', 'sector': 'Industrials', 'sectorKey': 'industrials', 'sectorDisp': 'Industrials', 'longBusinessSummary': 'PT Astra International Tbk, together with its subsidiaries, operates in the automotive, financial services, heavy equipment, mining, construction, energy, agri, infrastructure and logistics, information technology, and property businesses in Indonesia and internationally. It provides cars, trucks, and motorcycles of various brands; manufactures and distributes automotive components for vehicle manufacturer and retail consumers; consultation services to its customers; financing for cars, motorcycles, and heavy equipment; and life, vehicle, and health insurance, as well as other insurance for commercial business. The company also distributes heavy equipment machineries; provides coal mining contracting services; operates coal mines; and engages in crude palm oil plantation business. In addition, it is involved in the operation of toll roads; rental of vehicles; sale of used cars; and provision of logistics and warehousing services, as well as freight forwarding service through ground, sea, and air transportation. Further, the company offers various information technology business solutions based on document, office, and information technology; undertakes commercial and residential projects, as well as property development works. Additionally, it is involved in the foundation; formwork and bekisting; pump services; mechanical, electrical, and plumbing activities; and dredging, reclamation, and marine works. The company was incorporated in 1957 and is headquartered in Jakarta, Indonesia. PT Astra International Tbk operates as a subsidiary of Jardine Cycle & Carriage Limited.', 'fullTimeEmployees': 135694, 'companyOfficers': [{'maxAge': 1, 'name': 'Mr. Djony Bunarto Tjondro', 'age': 59, 'title': 'President Director & Chief Executive Officer', 'yearBorn': 1964, 'exercisedValue': 0, 'unexercisedValue': 0}, {'maxAge': 1, 'name': 'Endro  Wahyono', 'title': 'Chief of Corporate Finance & Accounting', 'exercisedValue': 0, 'unexercisedValue': 0}, {'maxAge': 1, 'name': 'Mr. Benny  Halim', 'title': 'Chief of Corporate Information Systems & Technology', 'exercisedValue': 0, 'unexercisedValue': 0}, {'maxAge': 1, 'name': 'Mr. Chiew Sin Cheok', 'age': 62, 'title': 'Chief of Corporate Investor Relations & Director', 'yearBorn': 1961, 'exercisedValue': 0, 'unexercisedValue': 0}, {'maxAge': 1, 'name': 'Ms. Gita Tiffani Boer', 'age': 57, 'title': 'Group General Counsel, Chief Corporate Secretary & Director', 'yearBorn': 1966, 'exercisedValue': 0, 'unexercisedValue': 0}, {'maxAge': 1, 'name': 'Ms. Meliza Musa Rusli', 'age': 49, 'title': 'Chief of Corporate Development & Group Digital Strategy', 'yearBorn': 1974, 'exercisedValue': 0, 'unexercisedValue': 0}, {'maxAge': 1, 'name': 'Mr. Aloysius Budi Santoso', 'title': 'Chief of Corporate Human Capital Development', 'exercisedValue': 0, 'unexercisedValue': 0}, {'maxAge': 1, 'name': 'Supranoto  Tirtodidjojo', 'title': 'Chief Executive of Daihatsu Sales Operation', 'exercisedValue': 0, 'unexercisedValue': 0}, {'maxAge': 1, 'name': 'Yoke Seng Loh', 'title': 'Chief of Group Audit & Risk Advisory', 'exercisedValue': 0, 'unexercisedValue': 0}, {'maxAge': 1, 'name': 'Vilihati  Surya', 'title': 'Chief of Corporate Planning', 'exercisedValue': 0, 'unexercisedValue': 0}], 'maxAge': 86400, 'priceHint': 2, 'previousClose': 4550.0, 'open': 4560.0, 'dayLow': 4510.0, 'dayHigh': 4600.0, 'regularMarketPreviousClose': 4550.0, 'regularMarketOpen': 4560.0, 'regularMarketDayLow': 4510.0, 'regularMarketDayHigh': 4600.0, 'dividendRate': 519.0, 'dividendYield': 0.1141, 'exDividendDate': 1715644800, 'payoutRatio': 0.8075, 'fiveYearAvgDividendYield': 4.97, 'beta': 0.546, 'trailingPE': 5.6031804, 'forwardPE': 5.9663973, 'volume': 42542400, 'regularMarketVolume': 42542400, 'averageVolume': 76698967, 'averageVolume10days': 106574025, 'averageDailyVolume10Day': 106574025, 'bid': 5675.0, 'ask': 3420.0, 'marketCap': 182581022687232, 'fiftyTwoWeekLow': 4510.0, 'fiftyTwoWeekHigh': 7000.0, 'priceToSalesTrailing12Months': 0.5800016, 'fiftyDayAverage': 5067.1, 'twoHundredDayAverage': 5589.05, 'trailingAnnualDividendRate': 519.0, 'trailingAnnualDividendYield': 0.11406594, 'currency': 'IDR', 'enterpriseValue': 284889173721088, 'profitMargins': 0.10351, 'floatShares': 20172549694, 'sharesOutstanding': 40483598336, 'heldPercentInsiders': 0.50171, 'heldPercentInstitutions': 0.13489, 'impliedSharesOutstanding': 40995999744, 'bookValue': 5113.188, 'priceToBook': 0.8820329, 'lastFiscalYearEnd': 1703980800, 'nextFiscalYearEnd': 1735603200, 'mostRecentQuarter': 1711843200, 'earningsQuarterlyGrowth': -0.144, 'netIncomeToCommon': 32584000077824, 'trailingEps': 804.9, 'forwardEps': 755.9, 'pegRatio': -4.34, 'lastSplitFactor': '10:1', 'lastSplitDate': 1338854400, 'enterpriseToRevenue': 0.905, 'enterpriseToEbitda': 4.767, '52WeekChange': -0.3, 'SandP52WeekChange': 0.26137078, 'lastDividendValue': 421.0, 'lastDividendDate': 1715644800, 'exchange': 'JKT', 'quoteType': 'EQUITY', 'symbol': 'ASII.JK', 'underlyingSymbol': 'ASII.JK', 'shortName': 'Astra International Tbk', 'longName': 'PT Astra International Tbk', 'firstTradeDateEpochUtc': 971748000, 'timeZoneFullName': 'Asia/Jakarta', 'timeZoneShortName': 'WIB', 'uuid': 'daaf6397-f9f5-3766-bcb0-9b424a3efb67', 'messageBoardId': 'finmb_706870', 'gmtOffSetMilliseconds': 25200000, 'currentPrice': 4510.0, 'targetHighPrice': 7500.0, 'targetLowPrice': 4400.0, 'targetMeanPrice': 5866.1, 'targetMedianPrice': 5820.0, 'recommendationMean': 2.6, 'recommendationKey': 'hold', 'numberOfAnalystOpinions': 18, 'totalCash': 48485000806400, 'totalCashPerShare': 1197.647, 'ebitda': 59768001527808, 'totalDebt': 94594003894272, 'quickRatio': 0.951, 'currentRatio': 1.325, 'totalRevenue': 314793990815744, 'debtToEquity': 36.163, 'revenuePerShare': 7775.763, 'returnOnAssets': 0.06356, 'returnOnEquity': 0.1663, 'freeCashflow': 7587999776768, 'operatingCashflow': 30352999448576, 'earningsGrowth': -0.144, 'revenueGrowth': -0.021, 'grossMargins': 0.21088, 'ebitdaMargins': 0.18986, 'operatingMargins': 0.13047, 'financialCurrency': 'IDR', 'trailingPegRatio': None}\n",
      "PT Astra International Tbk\n",
      "Jakarta\n",
      "Industrials\n",
      "Conglomerates\n",
      "PT Astra International Tbk, together with its subsidiaries, operates in the automotive, financial services, heavy equipment, mining, construction, energy, agri, infrastructure and logistics, information technology, and property businesses in Indonesia and internationally. It provides cars, trucks, and motorcycles of various brands; manufactures and distributes automotive components for vehicle manufacturer and retail consumers; consultation services to its customers; financing for cars, motorcycles, and heavy equipment; and life, vehicle, and health insurance, as well as other insurance for commercial business. The company also distributes heavy equipment machineries; provides coal mining contracting services; operates coal mines; and engages in crude palm oil plantation business. In addition, it is involved in the operation of toll roads; rental of vehicles; sale of used cars; and provision of logistics and warehousing services, as well as freight forwarding service through ground, sea, and air transportation. Further, the company offers various information technology business solutions based on document, office, and information technology; undertakes commercial and residential projects, as well as property development works. Additionally, it is involved in the foundation; formwork and bekisting; pump services; mechanical, electrical, and plumbing activities; and dredging, reclamation, and marine works. The company was incorporated in 1957 and is headquartered in Jakarta, Indonesia. PT Astra International Tbk operates as a subsidiary of Jardine Cycle & Carriage Limited.\n"
     ]
    }
   ],
   "source": [
    "import yfinance as yf\n",
    "\n",
    "# Mendapatkan data saham untuk simbol tertentu\n",
    "ticker = yf.Ticker(\"ASII.JK\")\n",
    "\n",
    "# Mendapatkan jumlah saham yang beredar (shares outstanding)\n",
    "shares_outstanding = ticker.info.get('sharesOutstanding')\n",
    "market_cap = ticker.info.get('marketCap')\n",
    "dividend_yield = ticker.info.get('dividendYield')\n",
    "# Mendapatkan EPS (Trailing EPS) dari informasi saham\n",
    "eps = ticker.info.get('trailingEps')\n",
    "\n",
    "# Mendapatkan P/E Ratio dari informasi saham\n",
    "pe_ratio = ticker.info.get('trailingPE')\n",
    "\n",
    "print(ticker.info)\n",
    "print(ticker.info.get('longName'))\n",
    "print(ticker.info.get('city'))\n",
    "print(ticker.info.get('sector'))\n",
    "print(ticker.info.get('industry'))\n",
    "print(ticker.info.get('longBusinessSummary'))\n",
    "\n",
    "\n",
    "\n",
    "# print(f\"Shares Outstanding for BBRI.JK: {shares_outstanding}\")\n",
    "# print(f\"Shares Outstanding for BBRI.JK: {market_cap}\")\n",
    "# print(f\"Shares Outstanding for BBRI.JK: {dividend_yield}\")\n",
    "# print(f\"Shares Outstanding for BBRI.JK: {eps}\")\n",
    "# print(f\"Shares Outstanding for BBRI.JK: {pe_ratio}\")\n"
   ]
  }
 ],
 "metadata": {
  "kernelspec": {
   "display_name": "envData",
   "language": "python",
   "name": "python3"
  },
  "language_info": {
   "codemirror_mode": {
    "name": "ipython",
    "version": 3
   },
   "file_extension": ".py",
   "mimetype": "text/x-python",
   "name": "python",
   "nbconvert_exporter": "python",
   "pygments_lexer": "ipython3",
   "version": "3.12.3"
  }
 },
 "nbformat": 4,
 "nbformat_minor": 2
}
